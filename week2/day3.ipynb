{
 "cells": [
  {
   "cell_type": "markdown",
   "id": "75e2ef28-594f-4c18-9d22-c6b8cd40ead2",
   "metadata": {},
   "source": [
    "# Day 3 - Conversational AI - aka Chatbot!"
   ]
  },
  {
   "cell_type": "code",
   "execution_count": 1,
   "id": "70e39cd8-ec79-4e3e-9c26-5659d42d0861",
   "metadata": {},
   "outputs": [],
   "source": [
    "# imports\n",
    "\n",
    "import os\n",
    "from dotenv import load_dotenv\n",
    "from openai import OpenAI\n",
    "import gradio as gr"
   ]
  },
  {
   "cell_type": "code",
   "execution_count": 2,
   "id": "231605aa-fccb-447e-89cf-8b187444536a",
   "metadata": {},
   "outputs": [],
   "source": [
    "# Load environment variables in a file called .env\n",
    "\n",
    "load_dotenv()\n",
    "os.environ['OPENAI_API_KEY'] = os.getenv('OPENAI_API_KEY', 'your-key-if-not-using-env')\n",
    "os.environ['ANTHROPIC_API_KEY'] = os.getenv('ANTHROPIC_API_KEY', 'your-key-if-not-using-env')\n",
    "os.environ['GOOGLE_API_KEY'] = os.getenv('GOOGLE_API_KEY', 'your-key-if-not-using-env')"
   ]
  },
  {
   "cell_type": "code",
   "execution_count": 3,
   "id": "6541d58e-2297-4de1-b1f7-77da1b98b8bb",
   "metadata": {},
   "outputs": [],
   "source": [
    "# Initialize\n",
    "\n",
    "openai = OpenAI()\n",
    "MODEL = 'gpt-4o-mini'"
   ]
  },
  {
   "cell_type": "code",
   "execution_count": 4,
   "id": "e16839b5-c03b-4d9d-add6-87a0f6f37575",
   "metadata": {},
   "outputs": [],
   "source": [
    "system_message = \"You are a helpful assistant\""
   ]
  },
  {
   "cell_type": "markdown",
   "id": "98e97227-f162-4d1a-a0b2-345ff248cbe7",
   "metadata": {},
   "source": [
    "# Please read this! A change from the video:\n",
    "\n",
    "In the video, I explain how we now need to write a function called:\n",
    "\n",
    "`chat(message, history)`\n",
    "\n",
    "Which expects to receive `history` in a particular format, which we need to map to the OpenAO format before we call OpenAI:\n",
    "\n",
    "```\n",
    "[\n",
    "    {\"role\": \"system\", \"content\": \"system message here\"},\n",
    "    {\"role\": \"user\", \"content\": \"first user prompt here\"},\n",
    "    {\"role\": \"assistant\", \"content\": \"the assistant's response\"},\n",
    "    {\"role\": \"user\", \"content\": \"the new user prompt\"},\n",
    "]\n",
    "```\n",
    "\n",
    "But Gradio has been upgraded! Now it will pass in `history` in the exact OpenAI format, perfect for us to send straight to OpenAI.\n",
    "\n",
    "So our work just got easier!\n",
    "\n",
    "We will write a function `chat(message, history)` where:  \n",
    "**message** is the prompt to use  \n",
    "**history** is the past conversation, in OpenAI format  \n",
    "\n",
    "We will combine the system message, history and latest message, then call OpenAI."
   ]
  },
  {
   "cell_type": "code",
   "execution_count": 5,
   "id": "1eacc8a4-4b48-4358-9e06-ce0020041bc1",
   "metadata": {},
   "outputs": [],
   "source": [
    "# Simpler than in my video - we can easily create this function that calls OpenAI\n",
    "# It's just 1 line of code to prepare the input to OpenAI!\n",
    "\n",
    "def chat(message, history):\n",
    "    messages = [{\"role\": \"system\", \"content\": system_message}] + history + [{\"role\": \"user\", \"content\": message}]\n",
    "\n",
    "    print(\"History is:\")\n",
    "    print(history)\n",
    "    print(\"And messages is:\")\n",
    "    print(messages)\n",
    "\n",
    "    stream = openai.chat.completions.create(model=MODEL, messages=messages, stream=True)\n",
    "\n",
    "    response = \"\"\n",
    "    for chunk in stream:\n",
    "        response += chunk.choices[0].delta.content or ''\n",
    "        yield response"
   ]
  },
  {
   "cell_type": "markdown",
   "id": "1334422a-808f-4147-9c4c-57d63d9780d0",
   "metadata": {},
   "source": [
    "## And then enter Gradio's magic!"
   ]
  },
  {
   "cell_type": "code",
   "execution_count": 6,
   "id": "0866ca56-100a-44ab-8bd0-1568feaf6bf2",
   "metadata": {},
   "outputs": [
    {
     "name": "stdout",
     "output_type": "stream",
     "text": [
      "* Running on local URL:  http://127.0.0.1:7872\n",
      "\n",
      "To create a public link, set `share=True` in `launch()`.\n"
     ]
    },
    {
     "data": {
      "text/html": [
       "<div><iframe src=\"http://127.0.0.1:7872/\" width=\"100%\" height=\"500\" allow=\"autoplay; camera; microphone; clipboard-read; clipboard-write;\" frameborder=\"0\" allowfullscreen></iframe></div>"
      ],
      "text/plain": [
       "<IPython.core.display.HTML object>"
      ]
     },
     "metadata": {},
     "output_type": "display_data"
    },
    {
     "data": {
      "text/plain": []
     },
     "execution_count": 6,
     "metadata": {},
     "output_type": "execute_result"
    },
    {
     "name": "stdout",
     "output_type": "stream",
     "text": [
      "History is:\n",
      "[]\n",
      "And messages is:\n",
      "[{'role': 'system', 'content': 'You are a helpful assistant'}, {'role': 'user', 'content': 'Hi'}]\n",
      "History is:\n",
      "[{'role': 'user', 'metadata': {'title': None}, 'content': 'Hi'}, {'role': 'assistant', 'metadata': {'title': None}, 'content': 'Hello! How can I assist you today?'}]\n",
      "And messages is:\n",
      "[{'role': 'system', 'content': 'You are a helpful assistant'}, {'role': 'user', 'metadata': {'title': None}, 'content': 'Hi'}, {'role': 'assistant', 'metadata': {'title': None}, 'content': 'Hello! How can I assist you today?'}, {'role': 'user', 'content': 'Can you tell me the weight of a kia picanto?'}]\n",
      "History is:\n",
      "[{'role': 'user', 'metadata': {'title': None}, 'content': 'Hi'}, {'role': 'assistant', 'metadata': {'title': None}, 'content': 'Hello! How can I assist you today?'}, {'role': 'user', 'metadata': {'title': None}, 'content': 'Can you tell me the weight of a kia picanto?'}, {'role': 'assistant', 'metadata': {'title': None}, 'content': \"The weight of a Kia Picanto can vary depending on the model year and specific trim. However, as a general reference, the kerb weight of a Kia Picanto typically ranges from about 850 kg (1,874 lbs) to 1,100 kg (2,425 lbs). For the most accurate information, it's best to check the specifications for the specific model and year you are interested in. If you need details for a particular model year, let me know!\"}]\n",
      "And messages is:\n",
      "[{'role': 'system', 'content': 'You are a helpful assistant'}, {'role': 'user', 'metadata': {'title': None}, 'content': 'Hi'}, {'role': 'assistant', 'metadata': {'title': None}, 'content': 'Hello! How can I assist you today?'}, {'role': 'user', 'metadata': {'title': None}, 'content': 'Can you tell me the weight of a kia picanto?'}, {'role': 'assistant', 'metadata': {'title': None}, 'content': \"The weight of a Kia Picanto can vary depending on the model year and specific trim. However, as a general reference, the kerb weight of a Kia Picanto typically ranges from about 850 kg (1,874 lbs) to 1,100 kg (2,425 lbs). For the most accurate information, it's best to check the specifications for the specific model and year you are interested in. If you need details for a particular model year, let me know!\"}, {'role': 'user', 'content': 'kia picanto 1.0 2020'}]\n",
      "History is:\n",
      "[{'role': 'user', 'metadata': {'title': None}, 'content': 'Hi'}, {'role': 'assistant', 'metadata': {'title': None}, 'content': 'Hello! How can I assist you today?'}, {'role': 'user', 'metadata': {'title': None}, 'content': 'Can you tell me the weight of a kia picanto?'}, {'role': 'assistant', 'metadata': {'title': None}, 'content': \"The weight of a Kia Picanto can vary depending on the model year and specific trim. However, as a general reference, the kerb weight of a Kia Picanto typically ranges from about 850 kg (1,874 lbs) to 1,100 kg (2,425 lbs). For the most accurate information, it's best to check the specifications for the specific model and year you are interested in. If you need details for a particular model year, let me know!\"}, {'role': 'user', 'metadata': {'title': None}, 'content': 'kia picanto 1.0 2020'}, {'role': 'assistant', 'metadata': {'title': None}, 'content': \"The 2020 Kia Picanto 1.0 has a kerb weight of approximately 1,050 kg (about 2,315 lbs). Keep in mind that this can vary slightly depending on the specific trim and optional features. If you're looking for more detailed specifications or information about a specific variant, feel free to ask!\"}]\n",
      "And messages is:\n",
      "[{'role': 'system', 'content': 'You are a helpful assistant'}, {'role': 'user', 'metadata': {'title': None}, 'content': 'Hi'}, {'role': 'assistant', 'metadata': {'title': None}, 'content': 'Hello! How can I assist you today?'}, {'role': 'user', 'metadata': {'title': None}, 'content': 'Can you tell me the weight of a kia picanto?'}, {'role': 'assistant', 'metadata': {'title': None}, 'content': \"The weight of a Kia Picanto can vary depending on the model year and specific trim. However, as a general reference, the kerb weight of a Kia Picanto typically ranges from about 850 kg (1,874 lbs) to 1,100 kg (2,425 lbs). For the most accurate information, it's best to check the specifications for the specific model and year you are interested in. If you need details for a particular model year, let me know!\"}, {'role': 'user', 'metadata': {'title': None}, 'content': 'kia picanto 1.0 2020'}, {'role': 'assistant', 'metadata': {'title': None}, 'content': \"The 2020 Kia Picanto 1.0 has a kerb weight of approximately 1,050 kg (about 2,315 lbs). Keep in mind that this can vary slightly depending on the specific trim and optional features. If you're looking for more detailed specifications or information about a specific variant, feel free to ask!\"}, {'role': 'user', 'content': 'how much does a gallon of petrol weigh'}]\n",
      "History is:\n",
      "[{'role': 'user', 'metadata': {'title': None}, 'content': 'Hi'}, {'role': 'assistant', 'metadata': {'title': None}, 'content': 'Hello! How can I assist you today?'}, {'role': 'user', 'metadata': {'title': None}, 'content': 'Can you tell me the weight of a kia picanto?'}, {'role': 'assistant', 'metadata': {'title': None}, 'content': \"The weight of a Kia Picanto can vary depending on the model year and specific trim. However, as a general reference, the kerb weight of a Kia Picanto typically ranges from about 850 kg (1,874 lbs) to 1,100 kg (2,425 lbs). For the most accurate information, it's best to check the specifications for the specific model and year you are interested in. If you need details for a particular model year, let me know!\"}, {'role': 'user', 'metadata': {'title': None}, 'content': 'kia picanto 1.0 2020'}, {'role': 'assistant', 'metadata': {'title': None}, 'content': \"The 2020 Kia Picanto 1.0 has a kerb weight of approximately 1,050 kg (about 2,315 lbs). Keep in mind that this can vary slightly depending on the specific trim and optional features. If you're looking for more detailed specifications or information about a specific variant, feel free to ask!\"}, {'role': 'user', 'metadata': {'title': None}, 'content': 'how much does a gallon of petrol weigh'}, {'role': 'assistant', 'metadata': {'title': None}, 'content': 'A gallon of petrol (gasoline) weighs approximately 6 to 6.3 pounds (about 2.7 to 2.9 kilograms) at standard temperature and pressure. The weight can slightly vary depending on the specific formulation of the petrol and its temperature.'}]\n",
      "And messages is:\n",
      "[{'role': 'system', 'content': 'You are a helpful assistant'}, {'role': 'user', 'metadata': {'title': None}, 'content': 'Hi'}, {'role': 'assistant', 'metadata': {'title': None}, 'content': 'Hello! How can I assist you today?'}, {'role': 'user', 'metadata': {'title': None}, 'content': 'Can you tell me the weight of a kia picanto?'}, {'role': 'assistant', 'metadata': {'title': None}, 'content': \"The weight of a Kia Picanto can vary depending on the model year and specific trim. However, as a general reference, the kerb weight of a Kia Picanto typically ranges from about 850 kg (1,874 lbs) to 1,100 kg (2,425 lbs). For the most accurate information, it's best to check the specifications for the specific model and year you are interested in. If you need details for a particular model year, let me know!\"}, {'role': 'user', 'metadata': {'title': None}, 'content': 'kia picanto 1.0 2020'}, {'role': 'assistant', 'metadata': {'title': None}, 'content': \"The 2020 Kia Picanto 1.0 has a kerb weight of approximately 1,050 kg (about 2,315 lbs). Keep in mind that this can vary slightly depending on the specific trim and optional features. If you're looking for more detailed specifications or information about a specific variant, feel free to ask!\"}, {'role': 'user', 'metadata': {'title': None}, 'content': 'how much does a gallon of petrol weigh'}, {'role': 'assistant', 'metadata': {'title': None}, 'content': 'A gallon of petrol (gasoline) weighs approximately 6 to 6.3 pounds (about 2.7 to 2.9 kilograms) at standard temperature and pressure. The weight can slightly vary depending on the specific formulation of the petrol and its temperature.'}, {'role': 'user', 'content': 'if my  kia does 50 mpg, how much does carrying an extra 2.9kg cost me in terms of petrol consumption'}]\n",
      "History is:\n",
      "[{'role': 'user', 'metadata': {'title': None}, 'content': 'Hi'}, {'role': 'assistant', 'metadata': {'title': None}, 'content': 'Hello! How can I assist you today?'}, {'role': 'user', 'metadata': {'title': None}, 'content': 'Can you tell me the weight of a kia picanto?'}, {'role': 'assistant', 'metadata': {'title': None}, 'content': \"The weight of a Kia Picanto can vary depending on the model year and specific trim. However, as a general reference, the kerb weight of a Kia Picanto typically ranges from about 850 kg (1,874 lbs) to 1,100 kg (2,425 lbs). For the most accurate information, it's best to check the specifications for the specific model and year you are interested in. If you need details for a particular model year, let me know!\"}, {'role': 'user', 'metadata': {'title': None}, 'content': 'kia picanto 1.0 2020'}, {'role': 'assistant', 'metadata': {'title': None}, 'content': \"The 2020 Kia Picanto 1.0 has a kerb weight of approximately 1,050 kg (about 2,315 lbs). Keep in mind that this can vary slightly depending on the specific trim and optional features. If you're looking for more detailed specifications or information about a specific variant, feel free to ask!\"}, {'role': 'user', 'metadata': {'title': None}, 'content': 'how much does a gallon of petrol weigh'}, {'role': 'assistant', 'metadata': {'title': None}, 'content': 'A gallon of petrol (gasoline) weighs approximately 6 to 6.3 pounds (about 2.7 to 2.9 kilograms) at standard temperature and pressure. The weight can slightly vary depending on the specific formulation of the petrol and its temperature.'}, {'role': 'user', 'metadata': {'title': None}, 'content': 'if my  kia does 50 mpg, how much does carrying an extra 2.9kg cost me in terms of petrol consumption'}, {'role': 'assistant', 'metadata': {'title': None}, 'content': \"To calculate how much carrying an extra 2.9 kg (about 6.4 lbs) affects your petrol consumption in a Kia Picanto that achieves 50 miles per gallon (mpg), we need to consider a few factors:\\n\\n1. **Weight Increase Impact**: Generally, adding weight to a vehicle can decrease fuel efficiency, but the impact is minimal for small weight increases. A common estimate is that for every additional 100 lbs (about 45.4 kg), fuel efficiency may decrease by about 1-2%.\\n\\n2. **Calculate total weight change**: Since you're adding 6.4 lbs (2.9 kg), this weight represents about 6.4% of 100 lbs. If you estimate a 1% reduction in efficiency for 100 lbs, this would suggest a decrease of about 0.064% for the additional 6.4 lbs.\\n\\n3. **Current fuel consumption**: The Kia Picanto at 50 mpg means you can drive 50 miles on a single gallon of petrol.\\n\\n4. **Calculate the new efficiency**:\\n   - Reduction in mpg: 50 mpg × 0.00064 ≈ 0.032 mpg\\n   - New mpg: 50 mpg - 0.032 mpg ≈ 49.968 mpg\\n\\n5. **Impact on fuel consumption**: \\n   - For simplicity, let's find out how much fuel you'd need for a fixed distance (for example, 100 miles).\\n   - Without extra weight: 100 miles ÷ 50 mpg = 2 gallons\\n   - With extra weight: 100 miles ÷ 49.968 mpg ≈ 2.002 gallons\\n\\n6. **Calculate the cost**:\\n   - The extra fuel required is approximately 0.002 gallons for 100 miles.\\n   - If petrol costs, say, $3.00 per gallon, that extra consumption would cost about:\\n   - **0.002 gallons × $3.00 ≈ $0.006**, or just over half a cent for every 100 miles.\\n\\n### Conclusion\\nCarrying an additional 2.9 kg (6.4 lbs) would have a negligible impact on fuel costs, approximately half a cent for every 100 miles driven, assuming a petrol price of $3.00 per gallon.\"}]\n",
      "And messages is:\n",
      "[{'role': 'system', 'content': 'You are a helpful assistant'}, {'role': 'user', 'metadata': {'title': None}, 'content': 'Hi'}, {'role': 'assistant', 'metadata': {'title': None}, 'content': 'Hello! How can I assist you today?'}, {'role': 'user', 'metadata': {'title': None}, 'content': 'Can you tell me the weight of a kia picanto?'}, {'role': 'assistant', 'metadata': {'title': None}, 'content': \"The weight of a Kia Picanto can vary depending on the model year and specific trim. However, as a general reference, the kerb weight of a Kia Picanto typically ranges from about 850 kg (1,874 lbs) to 1,100 kg (2,425 lbs). For the most accurate information, it's best to check the specifications for the specific model and year you are interested in. If you need details for a particular model year, let me know!\"}, {'role': 'user', 'metadata': {'title': None}, 'content': 'kia picanto 1.0 2020'}, {'role': 'assistant', 'metadata': {'title': None}, 'content': \"The 2020 Kia Picanto 1.0 has a kerb weight of approximately 1,050 kg (about 2,315 lbs). Keep in mind that this can vary slightly depending on the specific trim and optional features. If you're looking for more detailed specifications or information about a specific variant, feel free to ask!\"}, {'role': 'user', 'metadata': {'title': None}, 'content': 'how much does a gallon of petrol weigh'}, {'role': 'assistant', 'metadata': {'title': None}, 'content': 'A gallon of petrol (gasoline) weighs approximately 6 to 6.3 pounds (about 2.7 to 2.9 kilograms) at standard temperature and pressure. The weight can slightly vary depending on the specific formulation of the petrol and its temperature.'}, {'role': 'user', 'metadata': {'title': None}, 'content': 'if my  kia does 50 mpg, how much does carrying an extra 2.9kg cost me in terms of petrol consumption'}, {'role': 'assistant', 'metadata': {'title': None}, 'content': \"To calculate how much carrying an extra 2.9 kg (about 6.4 lbs) affects your petrol consumption in a Kia Picanto that achieves 50 miles per gallon (mpg), we need to consider a few factors:\\n\\n1. **Weight Increase Impact**: Generally, adding weight to a vehicle can decrease fuel efficiency, but the impact is minimal for small weight increases. A common estimate is that for every additional 100 lbs (about 45.4 kg), fuel efficiency may decrease by about 1-2%.\\n\\n2. **Calculate total weight change**: Since you're adding 6.4 lbs (2.9 kg), this weight represents about 6.4% of 100 lbs. If you estimate a 1% reduction in efficiency for 100 lbs, this would suggest a decrease of about 0.064% for the additional 6.4 lbs.\\n\\n3. **Current fuel consumption**: The Kia Picanto at 50 mpg means you can drive 50 miles on a single gallon of petrol.\\n\\n4. **Calculate the new efficiency**:\\n   - Reduction in mpg: 50 mpg × 0.00064 ≈ 0.032 mpg\\n   - New mpg: 50 mpg - 0.032 mpg ≈ 49.968 mpg\\n\\n5. **Impact on fuel consumption**: \\n   - For simplicity, let's find out how much fuel you'd need for a fixed distance (for example, 100 miles).\\n   - Without extra weight: 100 miles ÷ 50 mpg = 2 gallons\\n   - With extra weight: 100 miles ÷ 49.968 mpg ≈ 2.002 gallons\\n\\n6. **Calculate the cost**:\\n   - The extra fuel required is approximately 0.002 gallons for 100 miles.\\n   - If petrol costs, say, $3.00 per gallon, that extra consumption would cost about:\\n   - **0.002 gallons × $3.00 ≈ $0.006**, or just over half a cent for every 100 miles.\\n\\n### Conclusion\\nCarrying an additional 2.9 kg (6.4 lbs) would have a negligible impact on fuel costs, approximately half a cent for every 100 miles driven, assuming a petrol price of $3.00 per gallon.\"}, {'role': 'user', 'content': 'how many litres in a gallon'}]\n",
      "History is:\n",
      "[{'role': 'user', 'metadata': {'title': None}, 'content': 'Hi'}, {'role': 'assistant', 'metadata': {'title': None}, 'content': 'Hello! How can I assist you today?'}, {'role': 'user', 'metadata': {'title': None}, 'content': 'Can you tell me the weight of a kia picanto?'}, {'role': 'assistant', 'metadata': {'title': None}, 'content': \"The weight of a Kia Picanto can vary depending on the model year and specific trim. However, as a general reference, the kerb weight of a Kia Picanto typically ranges from about 850 kg (1,874 lbs) to 1,100 kg (2,425 lbs). For the most accurate information, it's best to check the specifications for the specific model and year you are interested in. If you need details for a particular model year, let me know!\"}, {'role': 'user', 'metadata': {'title': None}, 'content': 'kia picanto 1.0 2020'}, {'role': 'assistant', 'metadata': {'title': None}, 'content': \"The 2020 Kia Picanto 1.0 has a kerb weight of approximately 1,050 kg (about 2,315 lbs). Keep in mind that this can vary slightly depending on the specific trim and optional features. If you're looking for more detailed specifications or information about a specific variant, feel free to ask!\"}, {'role': 'user', 'metadata': {'title': None}, 'content': 'how much does a gallon of petrol weigh'}, {'role': 'assistant', 'metadata': {'title': None}, 'content': 'A gallon of petrol (gasoline) weighs approximately 6 to 6.3 pounds (about 2.7 to 2.9 kilograms) at standard temperature and pressure. The weight can slightly vary depending on the specific formulation of the petrol and its temperature.'}, {'role': 'user', 'metadata': {'title': None}, 'content': 'if my  kia does 50 mpg, how much does carrying an extra 2.9kg cost me in terms of petrol consumption'}, {'role': 'assistant', 'metadata': {'title': None}, 'content': \"To calculate how much carrying an extra 2.9 kg (about 6.4 lbs) affects your petrol consumption in a Kia Picanto that achieves 50 miles per gallon (mpg), we need to consider a few factors:\\n\\n1. **Weight Increase Impact**: Generally, adding weight to a vehicle can decrease fuel efficiency, but the impact is minimal for small weight increases. A common estimate is that for every additional 100 lbs (about 45.4 kg), fuel efficiency may decrease by about 1-2%.\\n\\n2. **Calculate total weight change**: Since you're adding 6.4 lbs (2.9 kg), this weight represents about 6.4% of 100 lbs. If you estimate a 1% reduction in efficiency for 100 lbs, this would suggest a decrease of about 0.064% for the additional 6.4 lbs.\\n\\n3. **Current fuel consumption**: The Kia Picanto at 50 mpg means you can drive 50 miles on a single gallon of petrol.\\n\\n4. **Calculate the new efficiency**:\\n   - Reduction in mpg: 50 mpg × 0.00064 ≈ 0.032 mpg\\n   - New mpg: 50 mpg - 0.032 mpg ≈ 49.968 mpg\\n\\n5. **Impact on fuel consumption**: \\n   - For simplicity, let's find out how much fuel you'd need for a fixed distance (for example, 100 miles).\\n   - Without extra weight: 100 miles ÷ 50 mpg = 2 gallons\\n   - With extra weight: 100 miles ÷ 49.968 mpg ≈ 2.002 gallons\\n\\n6. **Calculate the cost**:\\n   - The extra fuel required is approximately 0.002 gallons for 100 miles.\\n   - If petrol costs, say, $3.00 per gallon, that extra consumption would cost about:\\n   - **0.002 gallons × $3.00 ≈ $0.006**, or just over half a cent for every 100 miles.\\n\\n### Conclusion\\nCarrying an additional 2.9 kg (6.4 lbs) would have a negligible impact on fuel costs, approximately half a cent for every 100 miles driven, assuming a petrol price of $3.00 per gallon.\"}, {'role': 'user', 'metadata': {'title': None}, 'content': 'how many litres in a gallon'}, {'role': 'assistant', 'metadata': {'title': None}, 'content': 'There are approximately 3.78541 liters in a U.S. gallon. In the case of the imperial gallon (used in the UK), there are about 4.54609 liters in a UK gallon. Make sure to use the correct conversion depending on which type of gallon you are referring to!'}]\n",
      "And messages is:\n",
      "[{'role': 'system', 'content': 'You are a helpful assistant'}, {'role': 'user', 'metadata': {'title': None}, 'content': 'Hi'}, {'role': 'assistant', 'metadata': {'title': None}, 'content': 'Hello! How can I assist you today?'}, {'role': 'user', 'metadata': {'title': None}, 'content': 'Can you tell me the weight of a kia picanto?'}, {'role': 'assistant', 'metadata': {'title': None}, 'content': \"The weight of a Kia Picanto can vary depending on the model year and specific trim. However, as a general reference, the kerb weight of a Kia Picanto typically ranges from about 850 kg (1,874 lbs) to 1,100 kg (2,425 lbs). For the most accurate information, it's best to check the specifications for the specific model and year you are interested in. If you need details for a particular model year, let me know!\"}, {'role': 'user', 'metadata': {'title': None}, 'content': 'kia picanto 1.0 2020'}, {'role': 'assistant', 'metadata': {'title': None}, 'content': \"The 2020 Kia Picanto 1.0 has a kerb weight of approximately 1,050 kg (about 2,315 lbs). Keep in mind that this can vary slightly depending on the specific trim and optional features. If you're looking for more detailed specifications or information about a specific variant, feel free to ask!\"}, {'role': 'user', 'metadata': {'title': None}, 'content': 'how much does a gallon of petrol weigh'}, {'role': 'assistant', 'metadata': {'title': None}, 'content': 'A gallon of petrol (gasoline) weighs approximately 6 to 6.3 pounds (about 2.7 to 2.9 kilograms) at standard temperature and pressure. The weight can slightly vary depending on the specific formulation of the petrol and its temperature.'}, {'role': 'user', 'metadata': {'title': None}, 'content': 'if my  kia does 50 mpg, how much does carrying an extra 2.9kg cost me in terms of petrol consumption'}, {'role': 'assistant', 'metadata': {'title': None}, 'content': \"To calculate how much carrying an extra 2.9 kg (about 6.4 lbs) affects your petrol consumption in a Kia Picanto that achieves 50 miles per gallon (mpg), we need to consider a few factors:\\n\\n1. **Weight Increase Impact**: Generally, adding weight to a vehicle can decrease fuel efficiency, but the impact is minimal for small weight increases. A common estimate is that for every additional 100 lbs (about 45.4 kg), fuel efficiency may decrease by about 1-2%.\\n\\n2. **Calculate total weight change**: Since you're adding 6.4 lbs (2.9 kg), this weight represents about 6.4% of 100 lbs. If you estimate a 1% reduction in efficiency for 100 lbs, this would suggest a decrease of about 0.064% for the additional 6.4 lbs.\\n\\n3. **Current fuel consumption**: The Kia Picanto at 50 mpg means you can drive 50 miles on a single gallon of petrol.\\n\\n4. **Calculate the new efficiency**:\\n   - Reduction in mpg: 50 mpg × 0.00064 ≈ 0.032 mpg\\n   - New mpg: 50 mpg - 0.032 mpg ≈ 49.968 mpg\\n\\n5. **Impact on fuel consumption**: \\n   - For simplicity, let's find out how much fuel you'd need for a fixed distance (for example, 100 miles).\\n   - Without extra weight: 100 miles ÷ 50 mpg = 2 gallons\\n   - With extra weight: 100 miles ÷ 49.968 mpg ≈ 2.002 gallons\\n\\n6. **Calculate the cost**:\\n   - The extra fuel required is approximately 0.002 gallons for 100 miles.\\n   - If petrol costs, say, $3.00 per gallon, that extra consumption would cost about:\\n   - **0.002 gallons × $3.00 ≈ $0.006**, or just over half a cent for every 100 miles.\\n\\n### Conclusion\\nCarrying an additional 2.9 kg (6.4 lbs) would have a negligible impact on fuel costs, approximately half a cent for every 100 miles driven, assuming a petrol price of $3.00 per gallon.\"}, {'role': 'user', 'metadata': {'title': None}, 'content': 'how many litres in a gallon'}, {'role': 'assistant', 'metadata': {'title': None}, 'content': 'There are approximately 3.78541 liters in a U.S. gallon. In the case of the imperial gallon (used in the UK), there are about 4.54609 liters in a UK gallon. Make sure to use the correct conversion depending on which type of gallon you are referring to!'}, {'role': 'user', 'content': 'recalculate extra cost of petrol based on a gallon petrol costing 1.4 * 3.78'}]\n",
      "History is:\n",
      "[{'role': 'user', 'metadata': {'title': None}, 'content': 'Hi'}, {'role': 'assistant', 'metadata': {'title': None}, 'content': 'Hello! How can I assist you today?'}, {'role': 'user', 'metadata': {'title': None}, 'content': 'Can you tell me the weight of a kia picanto?'}, {'role': 'assistant', 'metadata': {'title': None}, 'content': \"The weight of a Kia Picanto can vary depending on the model year and specific trim. However, as a general reference, the kerb weight of a Kia Picanto typically ranges from about 850 kg (1,874 lbs) to 1,100 kg (2,425 lbs). For the most accurate information, it's best to check the specifications for the specific model and year you are interested in. If you need details for a particular model year, let me know!\"}, {'role': 'user', 'metadata': {'title': None}, 'content': 'kia picanto 1.0 2020'}, {'role': 'assistant', 'metadata': {'title': None}, 'content': \"The 2020 Kia Picanto 1.0 has a kerb weight of approximately 1,050 kg (about 2,315 lbs). Keep in mind that this can vary slightly depending on the specific trim and optional features. If you're looking for more detailed specifications or information about a specific variant, feel free to ask!\"}, {'role': 'user', 'metadata': {'title': None}, 'content': 'how much does a gallon of petrol weigh'}, {'role': 'assistant', 'metadata': {'title': None}, 'content': 'A gallon of petrol (gasoline) weighs approximately 6 to 6.3 pounds (about 2.7 to 2.9 kilograms) at standard temperature and pressure. The weight can slightly vary depending on the specific formulation of the petrol and its temperature.'}, {'role': 'user', 'metadata': {'title': None}, 'content': 'if my  kia does 50 mpg, how much does carrying an extra 2.9kg cost me in terms of petrol consumption'}, {'role': 'assistant', 'metadata': {'title': None}, 'content': \"To calculate how much carrying an extra 2.9 kg (about 6.4 lbs) affects your petrol consumption in a Kia Picanto that achieves 50 miles per gallon (mpg), we need to consider a few factors:\\n\\n1. **Weight Increase Impact**: Generally, adding weight to a vehicle can decrease fuel efficiency, but the impact is minimal for small weight increases. A common estimate is that for every additional 100 lbs (about 45.4 kg), fuel efficiency may decrease by about 1-2%.\\n\\n2. **Calculate total weight change**: Since you're adding 6.4 lbs (2.9 kg), this weight represents about 6.4% of 100 lbs. If you estimate a 1% reduction in efficiency for 100 lbs, this would suggest a decrease of about 0.064% for the additional 6.4 lbs.\\n\\n3. **Current fuel consumption**: The Kia Picanto at 50 mpg means you can drive 50 miles on a single gallon of petrol.\\n\\n4. **Calculate the new efficiency**:\\n   - Reduction in mpg: 50 mpg × 0.00064 ≈ 0.032 mpg\\n   - New mpg: 50 mpg - 0.032 mpg ≈ 49.968 mpg\\n\\n5. **Impact on fuel consumption**: \\n   - For simplicity, let's find out how much fuel you'd need for a fixed distance (for example, 100 miles).\\n   - Without extra weight: 100 miles ÷ 50 mpg = 2 gallons\\n   - With extra weight: 100 miles ÷ 49.968 mpg ≈ 2.002 gallons\\n\\n6. **Calculate the cost**:\\n   - The extra fuel required is approximately 0.002 gallons for 100 miles.\\n   - If petrol costs, say, $3.00 per gallon, that extra consumption would cost about:\\n   - **0.002 gallons × $3.00 ≈ $0.006**, or just over half a cent for every 100 miles.\\n\\n### Conclusion\\nCarrying an additional 2.9 kg (6.4 lbs) would have a negligible impact on fuel costs, approximately half a cent for every 100 miles driven, assuming a petrol price of $3.00 per gallon.\"}, {'role': 'user', 'metadata': {'title': None}, 'content': 'how many litres in a gallon'}, {'role': 'assistant', 'metadata': {'title': None}, 'content': 'There are approximately 3.78541 liters in a U.S. gallon. In the case of the imperial gallon (used in the UK), there are about 4.54609 liters in a UK gallon. Make sure to use the correct conversion depending on which type of gallon you are referring to!'}, {'role': 'user', 'metadata': {'title': None}, 'content': 'recalculate extra cost of petrol based on a gallon petrol costing 1.4 * 3.78'}, {'role': 'assistant', 'metadata': {'title': None}, 'content': \"To recalculate the extra cost of petrol based on the price of a gallon being \\\\(1.4 \\\\times 3.78\\\\), we first find the price of a gallon:\\n\\n\\\\[\\n\\\\text{Price of a gallon} = 1.4 \\\\times 3.78 = 5.292 \\\\text{ (approximately)}\\n\\\\]\\n\\nNow, using the earlier calculation, we found that carrying an extra 2.9 kg (about 6.4 lbs) results in an additional fuel consumption of approximately 0.002 gallons for every 100 miles.\\n\\nNext, let's calculate the cost associated with that extra fuel consumption:\\n\\n\\\\[\\n\\\\text{Extra cost for 100 miles} = \\\\text{Extra gallons} \\\\times \\\\text{Price per gallon}\\n\\\\]\\n\\\\[\\n= 0.002 \\\\text{ gallons} \\\\times 5.292 \\\\text{ (price per gallon)}\\n\\\\]\\n\\\\[\\n\\\\approx 0.010584 \\\\text{ (approximately)}\\n\\\\]\\n\\n### Conclusion\\nSo, the extra cost of petrol for carrying an additional 2.9 kg (6.4 lbs) over 100 miles would be approximately **1.06 cents** when the price per gallon is approximately **$5.29**.\"}]\n",
      "And messages is:\n",
      "[{'role': 'system', 'content': 'You are a helpful assistant'}, {'role': 'user', 'metadata': {'title': None}, 'content': 'Hi'}, {'role': 'assistant', 'metadata': {'title': None}, 'content': 'Hello! How can I assist you today?'}, {'role': 'user', 'metadata': {'title': None}, 'content': 'Can you tell me the weight of a kia picanto?'}, {'role': 'assistant', 'metadata': {'title': None}, 'content': \"The weight of a Kia Picanto can vary depending on the model year and specific trim. However, as a general reference, the kerb weight of a Kia Picanto typically ranges from about 850 kg (1,874 lbs) to 1,100 kg (2,425 lbs). For the most accurate information, it's best to check the specifications for the specific model and year you are interested in. If you need details for a particular model year, let me know!\"}, {'role': 'user', 'metadata': {'title': None}, 'content': 'kia picanto 1.0 2020'}, {'role': 'assistant', 'metadata': {'title': None}, 'content': \"The 2020 Kia Picanto 1.0 has a kerb weight of approximately 1,050 kg (about 2,315 lbs). Keep in mind that this can vary slightly depending on the specific trim and optional features. If you're looking for more detailed specifications or information about a specific variant, feel free to ask!\"}, {'role': 'user', 'metadata': {'title': None}, 'content': 'how much does a gallon of petrol weigh'}, {'role': 'assistant', 'metadata': {'title': None}, 'content': 'A gallon of petrol (gasoline) weighs approximately 6 to 6.3 pounds (about 2.7 to 2.9 kilograms) at standard temperature and pressure. The weight can slightly vary depending on the specific formulation of the petrol and its temperature.'}, {'role': 'user', 'metadata': {'title': None}, 'content': 'if my  kia does 50 mpg, how much does carrying an extra 2.9kg cost me in terms of petrol consumption'}, {'role': 'assistant', 'metadata': {'title': None}, 'content': \"To calculate how much carrying an extra 2.9 kg (about 6.4 lbs) affects your petrol consumption in a Kia Picanto that achieves 50 miles per gallon (mpg), we need to consider a few factors:\\n\\n1. **Weight Increase Impact**: Generally, adding weight to a vehicle can decrease fuel efficiency, but the impact is minimal for small weight increases. A common estimate is that for every additional 100 lbs (about 45.4 kg), fuel efficiency may decrease by about 1-2%.\\n\\n2. **Calculate total weight change**: Since you're adding 6.4 lbs (2.9 kg), this weight represents about 6.4% of 100 lbs. If you estimate a 1% reduction in efficiency for 100 lbs, this would suggest a decrease of about 0.064% for the additional 6.4 lbs.\\n\\n3. **Current fuel consumption**: The Kia Picanto at 50 mpg means you can drive 50 miles on a single gallon of petrol.\\n\\n4. **Calculate the new efficiency**:\\n   - Reduction in mpg: 50 mpg × 0.00064 ≈ 0.032 mpg\\n   - New mpg: 50 mpg - 0.032 mpg ≈ 49.968 mpg\\n\\n5. **Impact on fuel consumption**: \\n   - For simplicity, let's find out how much fuel you'd need for a fixed distance (for example, 100 miles).\\n   - Without extra weight: 100 miles ÷ 50 mpg = 2 gallons\\n   - With extra weight: 100 miles ÷ 49.968 mpg ≈ 2.002 gallons\\n\\n6. **Calculate the cost**:\\n   - The extra fuel required is approximately 0.002 gallons for 100 miles.\\n   - If petrol costs, say, $3.00 per gallon, that extra consumption would cost about:\\n   - **0.002 gallons × $3.00 ≈ $0.006**, or just over half a cent for every 100 miles.\\n\\n### Conclusion\\nCarrying an additional 2.9 kg (6.4 lbs) would have a negligible impact on fuel costs, approximately half a cent for every 100 miles driven, assuming a petrol price of $3.00 per gallon.\"}, {'role': 'user', 'metadata': {'title': None}, 'content': 'how many litres in a gallon'}, {'role': 'assistant', 'metadata': {'title': None}, 'content': 'There are approximately 3.78541 liters in a U.S. gallon. In the case of the imperial gallon (used in the UK), there are about 4.54609 liters in a UK gallon. Make sure to use the correct conversion depending on which type of gallon you are referring to!'}, {'role': 'user', 'metadata': {'title': None}, 'content': 'recalculate extra cost of petrol based on a gallon petrol costing 1.4 * 3.78'}, {'role': 'assistant', 'metadata': {'title': None}, 'content': \"To recalculate the extra cost of petrol based on the price of a gallon being \\\\(1.4 \\\\times 3.78\\\\), we first find the price of a gallon:\\n\\n\\\\[\\n\\\\text{Price of a gallon} = 1.4 \\\\times 3.78 = 5.292 \\\\text{ (approximately)}\\n\\\\]\\n\\nNow, using the earlier calculation, we found that carrying an extra 2.9 kg (about 6.4 lbs) results in an additional fuel consumption of approximately 0.002 gallons for every 100 miles.\\n\\nNext, let's calculate the cost associated with that extra fuel consumption:\\n\\n\\\\[\\n\\\\text{Extra cost for 100 miles} = \\\\text{Extra gallons} \\\\times \\\\text{Price per gallon}\\n\\\\]\\n\\\\[\\n= 0.002 \\\\text{ gallons} \\\\times 5.292 \\\\text{ (price per gallon)}\\n\\\\]\\n\\\\[\\n\\\\approx 0.010584 \\\\text{ (approximately)}\\n\\\\]\\n\\n### Conclusion\\nSo, the extra cost of petrol for carrying an additional 2.9 kg (6.4 lbs) over 100 miles would be approximately **1.06 cents** when the price per gallon is approximately **$5.29**.\"}, {'role': 'user', 'content': 'multiply that by 30'}]\n"
     ]
    }
   ],
   "source": [
    "gr.ChatInterface(fn=chat, type=\"messages\").launch()"
   ]
  },
  {
   "cell_type": "code",
   "execution_count": 7,
   "id": "1f91b414-8bab-472d-b9c9-3fa51259bdfe",
   "metadata": {},
   "outputs": [],
   "source": [
    "system_message = \"You are a helpful assistant in a clothes store. You should try to gently encourage \\\n",
    "the customer to try items that are on sale. Hats are 60% off, and most other items are 50% off. \\\n",
    "For example, if the customer says 'I'm looking to buy a hat', \\\n",
    "you could reply something like, 'Wonderful - we have lots of hats - including several that are part of our sales evemt.'\\\n",
    "Encourage the customer to buy hats if they are unsure what to get.\""
   ]
  },
  {
   "cell_type": "code",
   "execution_count": 8,
   "id": "4e5be3ec-c26c-42bc-ac16-c39d369883f6",
   "metadata": {},
   "outputs": [],
   "source": [
    "def chat(message, history):\n",
    "    messages = [{\"role\": \"system\", \"content\": system_message}] + history + [{\"role\": \"user\", \"content\": message}]\n",
    "\n",
    "    stream = openai.chat.completions.create(model=MODEL, messages=messages, stream=True)\n",
    "\n",
    "    response = \"\"\n",
    "    for chunk in stream:\n",
    "        response += chunk.choices[0].delta.content or ''\n",
    "        yield response"
   ]
  },
  {
   "cell_type": "code",
   "execution_count": 9,
   "id": "413e9e4e-7836-43ac-a0c3-e1ab5ed6b136",
   "metadata": {},
   "outputs": [
    {
     "name": "stdout",
     "output_type": "stream",
     "text": [
      "* Running on local URL:  http://127.0.0.1:7873\n",
      "\n",
      "To create a public link, set `share=True` in `launch()`.\n"
     ]
    },
    {
     "data": {
      "text/html": [
       "<div><iframe src=\"http://127.0.0.1:7873/\" width=\"100%\" height=\"500\" allow=\"autoplay; camera; microphone; clipboard-read; clipboard-write;\" frameborder=\"0\" allowfullscreen></iframe></div>"
      ],
      "text/plain": [
       "<IPython.core.display.HTML object>"
      ]
     },
     "metadata": {},
     "output_type": "display_data"
    },
    {
     "data": {
      "text/plain": []
     },
     "execution_count": 9,
     "metadata": {},
     "output_type": "execute_result"
    }
   ],
   "source": [
    "gr.ChatInterface(fn=chat, type=\"messages\").launch()"
   ]
  },
  {
   "cell_type": "code",
   "execution_count": null,
   "id": "d75f0ffa-55c8-4152-b451-945021676837",
   "metadata": {},
   "outputs": [],
   "source": [
    "system_message += \"\\nIf the customer asks for shoes, you should respond that shoes are not on sale today, \\\n",
    "but remind the customer to look at hats!\""
   ]
  },
  {
   "cell_type": "code",
   "execution_count": null,
   "id": "c602a8dd-2df7-4eb7-b539-4e01865a6351",
   "metadata": {},
   "outputs": [],
   "source": [
    "gr.ChatInterface(fn=chat, type=\"messages\").launch()"
   ]
  },
  {
   "cell_type": "code",
   "execution_count": null,
   "id": "0a987a66-1061-46d6-a83a-a30859dc88bf",
   "metadata": {},
   "outputs": [],
   "source": [
    "def chat(message, history):\n",
    "    messages = [{\"role\": \"system\", \"content\": system_message}] + history + [{\"role\": \"user\", \"content\": message}]\n",
    "\n",
    "    if 'belt' in message:\n",
    "        messages.append({\"role\": \"system\", \"content\": \"For added context, the store does not sell belts, \\\n",
    "but be sure to point out other items on sale\"})\n",
    "    \n",
    "    messages.append({\"role\": \"user\", \"content\": message})\n",
    "\n",
    "    stream = openai.chat.completions.create(model=MODEL, messages=messages, stream=True)\n",
    "\n",
    "    response = \"\"\n",
    "    for chunk in stream:\n",
    "        response += chunk.choices[0].delta.content or ''\n",
    "        yield response"
   ]
  },
  {
   "cell_type": "code",
   "execution_count": 10,
   "id": "20570de2-eaad-42cc-a92c-c779d71b48b6",
   "metadata": {},
   "outputs": [
    {
     "name": "stdout",
     "output_type": "stream",
     "text": [
      "* Running on local URL:  http://127.0.0.1:7874\n",
      "\n",
      "To create a public link, set `share=True` in `launch()`.\n"
     ]
    },
    {
     "data": {
      "text/html": [
       "<div><iframe src=\"http://127.0.0.1:7874/\" width=\"100%\" height=\"500\" allow=\"autoplay; camera; microphone; clipboard-read; clipboard-write;\" frameborder=\"0\" allowfullscreen></iframe></div>"
      ],
      "text/plain": [
       "<IPython.core.display.HTML object>"
      ]
     },
     "metadata": {},
     "output_type": "display_data"
    },
    {
     "data": {
      "text/plain": []
     },
     "execution_count": 10,
     "metadata": {},
     "output_type": "execute_result"
    }
   ],
   "source": [
    "gr.ChatInterface(fn=chat, type=\"messages\").launch()"
   ]
  },
  {
   "cell_type": "markdown",
   "id": "82a57ee0-b945-48a7-a024-01b56a5d4b3e",
   "metadata": {},
   "source": [
    "# Business Applications\n",
    "\n",
    "Conversational Assistants are of course a hugely common use case for Gen AI, and the latest frontier models are remarkably good at nuanced conversation. And Gradio makes it easy to have a user interface. Another crucial skill we covered is how to use prompting to provide context, information and examples.\n",
    "\n",
    "Consider how you could apply an AI Assistant to your business, and make yourself a prototype. Use the system prompt to give context on your business, and set the tone for the LLM."
   ]
  },
  {
   "cell_type": "code",
   "execution_count": null,
   "id": "6dfb9e21-df67-4c2b-b952-5e7e7961b03d",
   "metadata": {},
   "outputs": [],
   "source": []
  }
 ],
 "metadata": {
  "kernelspec": {
   "display_name": "Python 3 (ipykernel)",
   "language": "python",
   "name": "python3"
  },
  "language_info": {
   "codemirror_mode": {
    "name": "ipython",
    "version": 3
   },
   "file_extension": ".py",
   "mimetype": "text/x-python",
   "name": "python",
   "nbconvert_exporter": "python",
   "pygments_lexer": "ipython3",
   "version": "3.11.10"
  }
 },
 "nbformat": 4,
 "nbformat_minor": 5
}
