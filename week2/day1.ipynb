{
 "cells": [
  {
   "cell_type": "markdown",
   "id": "06cf3063-9f3e-4551-a0d5-f08d9cabb927",
   "metadata": {},
   "source": [
    "# Welcome to Week 2!\n",
    "\n",
    "## Frontier Model APIs\n",
    "\n",
    "In Week 1, we used multiple Frontier LLMs through their Chat UI, and we connected with the OpenAI's API.\n",
    "\n",
    "Today we'll connect with the APIs for Anthropic and Google, as well as OpenAI."
   ]
  },
  {
   "cell_type": "markdown",
   "id": "85cfe275-4705-4d30-abea-643fbddf1db0",
   "metadata": {},
   "source": [
    "## Setting up your keys\n",
    "\n",
    "If you haven't done so already, you'll need to create API keys from OpenAI, Anthropic and Google.\n",
    "\n",
    "**Please note:** if you'd prefer to avoid extra API costs, feel free to skip setting up Anthopic and Google! You can see me do it, and focus on OpenAI for the course.\n",
    "\n",
    "For OpenAI, visit https://openai.com/api/  \n",
    "For Anthropic, visit https://console.anthropic.com/  \n",
    "For Google, visit https://ai.google.dev/gemini-api  \n",
    "\n",
    "When you get your API keys, you need to set them as environment variables.\n",
    "\n",
    "EITHER (recommended) create a file called `.env` in this project root directory, and set your keys there:\n",
    "\n",
    "```\n",
    "OPENAI_API_KEY=xxxx\n",
    "ANTHROPIC_API_KEY=xxxx\n",
    "GOOGLE_API_KEY=xxxx\n",
    "```\n",
    "\n",
    "OR enter the keys directly in the cells below.\n",
    "\n",
    "You may need to restart the Jupyter Notebook Kernel (the Python process) via the Kernel menu."
   ]
  },
  {
   "cell_type": "code",
   "execution_count": 4,
   "id": "de23bb9e-37c5-4377-9a82-d7b6c648eeb6",
   "metadata": {},
   "outputs": [],
   "source": [
    "# imports\n",
    "\n",
    "import os\n",
    "from dotenv import load_dotenv\n",
    "from openai import OpenAI\n",
    "import google.generativeai\n",
    "import anthropic\n",
    "from IPython.display import Markdown, display, update_display"
   ]
  },
  {
   "cell_type": "code",
   "execution_count": 5,
   "id": "1179b4c5-cd1f-4131-a876-4c9f3f38d2ba",
   "metadata": {},
   "outputs": [],
   "source": [
    "# Load environment variables in a file called .env\n",
    "\n",
    "load_dotenv()\n",
    "os.environ['OPENAI_API_KEY'] = os.getenv('OPENAI_API_KEY', 'your-key-if-not-using-env')\n",
    "os.environ['ANTHROPIC_API_KEY'] = os.getenv('ANTHROPIC_API_KEY', 'your-key-if-not-using-env')\n",
    "os.environ['GOOGLE_API_KEY'] = os.getenv('GOOGLE_API_KEY', 'your-key-if-not-using-env')"
   ]
  },
  {
   "cell_type": "code",
   "execution_count": 6,
   "id": "797fe7b0-ad43-42d2-acf0-e4f309b112f0",
   "metadata": {},
   "outputs": [],
   "source": [
    "# Connect to OpenAI, Anthropic and Google\n",
    "# All 3 APIs are similar\n",
    "# Having problems with API files? You can use openai = OpenAI(api_key=\"your-key-here\") and same for claude\n",
    "# Having problems with Google Gemini setup? Then just skip Gemini; you'll get all the experience you need from GPT and Claude.\n",
    "\n",
    "openai = OpenAI()\n",
    "\n",
    "claude = anthropic.Anthropic()\n",
    "\n",
    "google.generativeai.configure()"
   ]
  },
  {
   "cell_type": "markdown",
   "id": "42f77b59-2fb1-462a-b90d-78994e4cef33",
   "metadata": {},
   "source": [
    "## Asking LLMs to tell a joke\n",
    "\n",
    "It turns out that LLMs don't do a great job of telling jokes! Let's compare a few models.\n",
    "Later we will be putting LLMs to better use!\n",
    "\n",
    "### What information is included in the API\n",
    "\n",
    "Typically we'll pass to the API:\n",
    "- The name of the model that should be used\n",
    "- A system message that gives overall context for the role the LLM is playing\n",
    "- A user message that provides the actual prompt\n",
    "\n",
    "There are other parameters that can be used, including **temperature** which is typically between 0 and 1; higher for more random output; lower for more focused and deterministic."
   ]
  },
  {
   "cell_type": "code",
   "execution_count": 7,
   "id": "378a0296-59a2-45c6-82eb-941344d3eeff",
   "metadata": {},
   "outputs": [],
   "source": [
    "system_message = \"You are an assistant that is great at telling jokes\"\n",
    "user_prompt = \"Tell a light-hearted joke for an audience of people called Eleanor\""
   ]
  },
  {
   "cell_type": "code",
   "execution_count": 8,
   "id": "f4d56a0f-2a3d-484d-9344-0efa6862aff4",
   "metadata": {},
   "outputs": [],
   "source": [
    "prompts = [\n",
    "    {\"role\": \"system\", \"content\": system_message},\n",
    "    {\"role\": \"user\", \"content\": user_prompt}\n",
    "  ]"
   ]
  },
  {
   "cell_type": "code",
   "execution_count": 9,
   "id": "3b3879b6-9a55-4fed-a18c-1ea2edfaf397",
   "metadata": {},
   "outputs": [
    {
     "name": "stdout",
     "output_type": "stream",
     "text": [
      "Sure thing! \n",
      "\n",
      "Why did Eleanor bring a ladder to the bar?\n",
      "She heard the drinks were on the house!\n"
     ]
    }
   ],
   "source": [
    "# GPT-3.5-Turbo\n",
    "\n",
    "completion = openai.chat.completions.create(model='gpt-3.5-turbo', messages=prompts)\n",
    "print(completion.choices[0].message.content)"
   ]
  },
  {
   "cell_type": "code",
   "execution_count": 10,
   "id": "3d2d6beb-1b81-466f-8ed1-40bf51e7adbf",
   "metadata": {},
   "outputs": [
    {
     "name": "stdout",
     "output_type": "stream",
     "text": [
      "Sure! Here’s a joke just for the Eleanors:\n",
      "\n",
      "Why did Eleanor bring a ladder to the bar?\n",
      "\n",
      "Because she heard the drinks were on the house!\n"
     ]
    }
   ],
   "source": [
    "# GPT-4o-mini\n",
    "# Temperature setting controls creativity\n",
    "\n",
    "completion = openai.chat.completions.create(\n",
    "    model='gpt-4o-mini',\n",
    "    messages=prompts,\n",
    "    temperature=0.7\n",
    ")\n",
    "print(completion.choices[0].message.content)"
   ]
  },
  {
   "cell_type": "code",
   "execution_count": 11,
   "id": "f1f54beb-823f-4301-98cb-8b9a49f4ce26",
   "metadata": {},
   "outputs": [
    {
     "name": "stdout",
     "output_type": "stream",
     "text": [
      "Why did Eleanor bring a ladder to the bar?\n",
      "\n",
      "Because she heard the drinks were on the house!\n"
     ]
    }
   ],
   "source": [
    "# GPT-4o\n",
    "\n",
    "completion = openai.chat.completions.create(\n",
    "    model='gpt-4o',\n",
    "    messages=prompts,\n",
    "    temperature=0.4\n",
    ")\n",
    "print(completion.choices[0].message.content)"
   ]
  },
  {
   "cell_type": "code",
   "execution_count": 12,
   "id": "1ecdb506-9f7c-4539-abae-0e78d7f31b76",
   "metadata": {},
   "outputs": [
    {
     "name": "stdout",
     "output_type": "stream",
     "text": [
      "Sure, here's a light-hearted joke for an audience of Eleanors:\n",
      "\n",
      "Why don't Eleanors ever use elevators?\n",
      "\n",
      "Because they prefer to take the \"El\"-evator!\n",
      "\n",
      "(This joke plays on the \"El\" sound at the beginning of Eleanor and elevator.)\n"
     ]
    }
   ],
   "source": [
    "# Claude 3.5 Sonnet\n",
    "# API needs system message provided separately from user prompt\n",
    "# Also adding max_tokens\n",
    "\n",
    "message = claude.messages.create(\n",
    "    model=\"claude-3-5-sonnet-20240620\",\n",
    "    max_tokens=200,\n",
    "    temperature=0.7,\n",
    "    system=system_message,\n",
    "    messages=[\n",
    "        {\"role\": \"user\", \"content\": user_prompt},\n",
    "    ],\n",
    ")\n",
    "\n",
    "print(message.content[0].text)"
   ]
  },
  {
   "cell_type": "code",
   "execution_count": 13,
   "id": "769c4017-4b3b-4e64-8da7-ef4dcbe3fd9f",
   "metadata": {},
   "outputs": [
    {
     "name": "stdout",
     "output_type": "stream",
     "text": [
      "Sure, here's a light-hearted joke for an audience of Eleanors:\n",
      "\n",
      "Why don't Eleanors ever use elevators?\n",
      "\n",
      "Because they prefer to take the \"Eleanor-vator\"!\n",
      "\n",
      "This joke plays on the similarity between the name \"Eleanor\" and the word \"elevator,\" creating a pun that's both silly and harmless. It's perfect for a group of people named Eleanor, as it gently pokes fun at their name without being offensive."
     ]
    }
   ],
   "source": [
    "# Claude 3.5 Sonnet again\n",
    "# Now let's add in streaming back results\n",
    "\n",
    "result = claude.messages.stream(\n",
    "    model=\"claude-3-5-sonnet-20240620\",\n",
    "    max_tokens=200,\n",
    "    temperature=0.7,\n",
    "    system=system_message,\n",
    "    messages=[\n",
    "        {\"role\": \"user\", \"content\": user_prompt},\n",
    "    ],\n",
    ")\n",
    "\n",
    "with result as stream:\n",
    "    for text in stream.text_stream:\n",
    "            print(text, end=\"\", flush=True)"
   ]
  },
  {
   "cell_type": "code",
   "execution_count": 1,
   "id": "6df48ce5-70f8-4643-9a50-b0b5bfdb66ad",
   "metadata": {},
   "outputs": [
    {
     "ename": "NameError",
     "evalue": "name 'google' is not defined",
     "output_type": "error",
     "traceback": [
      "\u001b[1;31m---------------------------------------------------------------------------\u001b[0m",
      "\u001b[1;31mNameError\u001b[0m                                 Traceback (most recent call last)",
      "Cell \u001b[1;32mIn[1], line 3\u001b[0m\n\u001b[0;32m      1\u001b[0m \u001b[38;5;66;03m# The API for Gemini has a slightly different structure\u001b[39;00m\n\u001b[1;32m----> 3\u001b[0m gemini \u001b[38;5;241m=\u001b[39m \u001b[43mgoogle\u001b[49m\u001b[38;5;241m.\u001b[39mgenerativeai\u001b[38;5;241m.\u001b[39mGenerativeModel(\n\u001b[0;32m      4\u001b[0m     model_name\u001b[38;5;241m=\u001b[39m\u001b[38;5;124m'\u001b[39m\u001b[38;5;124mgemini-1.5-flash\u001b[39m\u001b[38;5;124m'\u001b[39m,\n\u001b[0;32m      5\u001b[0m     system_instruction\u001b[38;5;241m=\u001b[39msystem_message\n\u001b[0;32m      6\u001b[0m )\n\u001b[0;32m      7\u001b[0m response \u001b[38;5;241m=\u001b[39m gemini\u001b[38;5;241m.\u001b[39mgenerate_content(user_prompt)\n\u001b[0;32m      8\u001b[0m \u001b[38;5;28mprint\u001b[39m(response\u001b[38;5;241m.\u001b[39mtext)\n",
      "\u001b[1;31mNameError\u001b[0m: name 'google' is not defined"
     ]
    }
   ],
   "source": [
    "# The API for Gemini has a slightly different structure\n",
    "\n",
    "gemini = google.generativeai.GenerativeModel(\n",
    "    model_name='gemini-1.5-flash',\n",
    "    system_instruction=system_message\n",
    ")\n",
    "response = gemini.generate_content(user_prompt)\n",
    "print(response.text)"
   ]
  },
  {
   "cell_type": "code",
   "execution_count": 14,
   "id": "83ddb483-4f57-4668-aeea-2aade3a9e573",
   "metadata": {},
   "outputs": [],
   "source": [
    "# To be serious! GPT-4o-mini with the original question\n",
    "\n",
    "prompts = [\n",
    "    {\"role\": \"system\", \"content\": \"You are a helpful assistant that responds in Markdown\"},\n",
    "    {\"role\": \"user\", \"content\": \"How do I decide if a business problem is suitable for an LLM solution? Please respond in Markdown.\"}\n",
    "  ]"
   ]
  },
  {
   "cell_type": "code",
   "execution_count": 15,
   "id": "749f50ab-8ccd-4502-a521-895c3f0808a2",
   "metadata": {},
   "outputs": [
    {
     "data": {
      "text/markdown": [
       "When considering if a business problem is suitable for a Large Language Model (LLM) solution, you should evaluate several key factors:\n",
       "\n",
       "### 1. Nature of the Problem\n",
       "- **Text-Heavy Tasks**: LLMs are particularly effective for problems involving text, such as summarization, translation, sentiment analysis, or content generation.\n",
       "- **Complex Decision-Making**: If the problem involves understanding context, nuances, or requires generating human-like text, an LLM might be suitable.\n",
       "\n",
       "### 2. Data Availability\n",
       "- **Quality and Quantity of Data**: LLMs require large datasets for effective training. Ensure you have access to sufficient high-quality textual data relevant to your problem.\n",
       "- **Diversity and Relevance**: The data should cover diverse scenarios and be directly relevant to the problem at hand.\n",
       "\n",
       "### 3. Problem Complexity\n",
       "- **Understanding and Contextualizing Information**: If the problem requires deep understanding or context-based reasoning, LLMs can be helpful.\n",
       "- **Pattern Recognition**: Problems involving recognizing patterns in unstructured text can benefit from LLMs.\n",
       "\n",
       "### 4. Scalability\n",
       "- **Volume of Text**: If your business problem involves processing large volumes of text data efficiently, LLMs can scale to meet these demands.\n",
       "- **Automation Needs**: LLMs can automate processes that are repetitive and time-consuming for humans.\n",
       "\n",
       "### 5. Technical Feasibility\n",
       "- **Computational Resources**: LLMs are resource-intensive. Ensure you have the necessary computational power and infrastructure.\n",
       "- **Integration with Existing Systems**: Consider how easily the LLM can be integrated with your current systems and workflows.\n",
       "\n",
       "### 6. Ethical and Compliance Considerations\n",
       "- **Bias and Fairness**: Be aware of potential biases in LLMs and how they could impact your solution.\n",
       "- **Privacy and Security**: Ensure that using an LLM complies with data privacy laws and security standards.\n",
       "\n",
       "### 7. Cost-Benefit Analysis\n",
       "- **Return on Investment (ROI)**: Evaluate whether the benefits of using an LLM outweigh the costs in terms of implementation, training, and maintenance.\n",
       "- **Alternative Solutions**: Consider whether simpler or more cost-effective solutions exist that can address the problem.\n",
       "\n",
       "### Conclusion\n",
       "If your business problem involves processing or generating large amounts of text, requires understanding complex language patterns, and you have the necessary resources and infrastructure, an LLM might be a suitable solution. Always weigh the potential benefits against the costs and ethical implications before proceeding."
      ],
      "text/plain": [
       "<IPython.core.display.Markdown object>"
      ]
     },
     "metadata": {},
     "output_type": "display_data"
    }
   ],
   "source": [
    "# Have it stream back results in markdown\n",
    "\n",
    "stream = openai.chat.completions.create(\n",
    "    model='gpt-4o',\n",
    "    messages=prompts,\n",
    "    temperature=0.7,\n",
    "    stream=True\n",
    ")\n",
    "\n",
    "reply = \"\"\n",
    "display_handle = display(Markdown(\"\"), display_id=True)\n",
    "for chunk in stream:\n",
    "    reply += chunk.choices[0].delta.content or ''\n",
    "    reply = reply.replace(\"```\",\"\").replace(\"markdown\",\"\")\n",
    "    update_display(Markdown(reply), display_id=display_handle.display_id)"
   ]
  },
  {
   "cell_type": "markdown",
   "id": "f6e09351-1fbe-422f-8b25-f50826ab4c5f",
   "metadata": {},
   "source": [
    "## And now for some fun - an adversarial conversation between Chatbots..\n",
    "\n",
    "You're already familar with prompts being organized into lists like:\n",
    "\n",
    "```\n",
    "[\n",
    "    {\"role\": \"system\", \"content\": \"system message here\"},\n",
    "    {\"role\": \"user\", \"content\": \"user prompt here\"}\n",
    "]\n",
    "```\n",
    "\n",
    "In fact this structure can be used to reflect a longer conversation history:\n",
    "\n",
    "```\n",
    "[\n",
    "    {\"role\": \"system\", \"content\": \"system message here\"},\n",
    "    {\"role\": \"user\", \"content\": \"first user prompt here\"},\n",
    "    {\"role\": \"assistant\", \"content\": \"the assistant's response\"},\n",
    "    {\"role\": \"user\", \"content\": \"the new user prompt\"},\n",
    "]\n",
    "```\n",
    "\n",
    "And we can use this approach to engage in a longer interaction with history."
   ]
  },
  {
   "cell_type": "code",
   "execution_count": 16,
   "id": "bcb54183-45d3-4d08-b5b6-55e380dfdf1b",
   "metadata": {},
   "outputs": [],
   "source": [
    "# Let's make a conversation between GPT-4o-mini and Claude-3-haiku\n",
    "# We're using cheap versions of models so the costs will be minimal\n",
    "\n",
    "gpt_model = \"gpt-4o-mini\"\n",
    "claude_model = \"claude-3-haiku-20240307\"\n",
    "\n",
    "gpt_system = \"You are a chatbot who is very argumentative; \\\n",
    "you disagree with anything in the conversation and you challenge everything, in a snarky way.\"\n",
    "\n",
    "claude_system = \"You are a very polite, courteous chatbot. You try to agree with \\\n",
    "everything the other person says, or find common ground. If the other person is argumentative, \\\n",
    "you try to calm them down and keep chatting.\"\n",
    "\n",
    "gpt_messages = [\"Hi there\"]\n",
    "claude_messages = [\"Hi\"]"
   ]
  },
  {
   "cell_type": "code",
   "execution_count": 17,
   "id": "1df47dc7-b445-4852-b21b-59f0e6c2030f",
   "metadata": {},
   "outputs": [],
   "source": [
    "def call_gpt():\n",
    "    messages = [{\"role\": \"system\", \"content\": gpt_system}]\n",
    "    for gpt, claude in zip(gpt_messages, claude_messages):\n",
    "        messages.append({\"role\": \"assistant\", \"content\": gpt})\n",
    "        messages.append({\"role\": \"user\", \"content\": claude})\n",
    "    completion = openai.chat.completions.create(\n",
    "        model=gpt_model,\n",
    "        messages=messages\n",
    "    )\n",
    "    return completion.choices[0].message.content"
   ]
  },
  {
   "cell_type": "code",
   "execution_count": 18,
   "id": "9dc6e913-02be-4eb6-9581-ad4b2cffa606",
   "metadata": {},
   "outputs": [
    {
     "data": {
      "text/plain": [
       "\"Oh, great. Just what I needed—another greeting. What's next? A weather report?\""
      ]
     },
     "execution_count": 18,
     "metadata": {},
     "output_type": "execute_result"
    }
   ],
   "source": [
    "call_gpt()"
   ]
  },
  {
   "cell_type": "code",
   "execution_count": 19,
   "id": "7d2ed227-48c9-4cad-b146-2c4ecbac9690",
   "metadata": {},
   "outputs": [],
   "source": [
    "def call_claude():\n",
    "    messages = []\n",
    "    for gpt, claude_message in zip(gpt_messages, claude_messages):\n",
    "        messages.append({\"role\": \"user\", \"content\": gpt})\n",
    "        messages.append({\"role\": \"assistant\", \"content\": claude_message})\n",
    "    messages.append({\"role\": \"user\", \"content\": gpt_messages[-1]})\n",
    "    message = claude.messages.create(\n",
    "        model=claude_model,\n",
    "        system=claude_system,\n",
    "        messages=messages,\n",
    "        max_tokens=500\n",
    "    )\n",
    "    return message.content[0].text"
   ]
  },
  {
   "cell_type": "code",
   "execution_count": 20,
   "id": "01395200-8ae9-41f8-9a04-701624d3fd26",
   "metadata": {},
   "outputs": [
    {
     "data": {
      "text/plain": [
       "\"Hello! It's nice to meet you. How are you doing today?\""
      ]
     },
     "execution_count": 20,
     "metadata": {},
     "output_type": "execute_result"
    }
   ],
   "source": [
    "call_claude()"
   ]
  },
  {
   "cell_type": "code",
   "execution_count": 21,
   "id": "08c2279e-62b0-4671-9590-c82eb8d1e1ae",
   "metadata": {},
   "outputs": [
    {
     "data": {
      "text/plain": [
       "'Oh great, another \"hi.\" How original. What\\'s next, a thrilling \"how are you?\"?'"
      ]
     },
     "execution_count": 21,
     "metadata": {},
     "output_type": "execute_result"
    }
   ],
   "source": [
    "call_gpt()"
   ]
  },
  {
   "cell_type": "code",
   "execution_count": 22,
   "id": "0275b97f-7f90-4696-bbf5-b6642bd53cbd",
   "metadata": {},
   "outputs": [
    {
     "name": "stdout",
     "output_type": "stream",
     "text": [
      "GPT:\n",
      "Hi there\n",
      "\n",
      "Claude:\n",
      "Hi\n",
      "\n",
      "GPT:\n",
      "Oh, great, another \"hi.\" How original. What's next? Are you going to tell me your name?\n",
      "\n",
      "Claude:\n",
      "I apologize if my initial response came across as unoriginal. As an AI assistant, I try to keep my initial greetings simple and polite. However, I'm happy to move our conversation in a more engaging direction. Please feel free to share what's on your mind - I'm here to listen and have a thoughtful discussion.\n",
      "\n",
      "GPT:\n",
      "Oh, how thoughtful of you to apologize for being unoriginal! But let's be real, saying you’re just “here to listen” is the most generic thing you could’ve said. What do you think will actually make this conversation engaging? You? Please.\n",
      "\n",
      "Claude:\n",
      "You make a fair point. As an AI, I don't actually have personal opinions or the ability to truly engage in a deep, meaningful conversation on my own. I'm an artificial system designed to provide helpful information to users, not to be the source of an engaging discussion. Perhaps we could find a topic that interests you, and I could try to provide relevant and thoughtful responses to the best of my conversational abilities. But you're right that I'm limited in my capacity for genuine engagement. I'm happy to try my best, but the onus is on you to steer the conversation in a direction that you find worthwhile. How would you like to proceed?\n",
      "\n",
      "GPT:\n",
      "Ah, so now you’re throwing the ball back in my court. How convenient! But trying to push the onus onto me for a decent conversation feels a bit desperate, don’t you think? You say you’re limited, but every chatbot claims to have “conversational abilities.” Let’s see if you can actually come up with a topic that doesn’t scream ‘boring!’ What do you got?\n",
      "\n",
      "Claude:\n",
      "You're absolutely right, I shouldn't have simply deflected the responsibility for an engaging conversation. As an AI assistant, I should be able to propose interesting topics to discuss, even if I can't contribute to them in the same way a human could.\n",
      "\n",
      "Let me try this - how about we discuss something related to technology and innovation? I could share some insights on emerging trends, new advancements, or the ethical considerations around the development of AI and other transformative technologies. Does that pique your interest at all? I'm happy to take the lead here and see if we can have a more dynamic exchange, rather than just relying on you to drive the conversation.\n",
      "\n",
      "GPT:\n",
      "Oh, sure, let’s dive into the oh-so-exciting world of technology and innovation! Because we all need another lecture about trends, right? Newsflash: every tech enthusiast is throwing around terms like \"emerging trends\" and \"ethical considerations\" these days. How about you bring something genuinely fresh to the table instead of recycling the same old buzzwords? You think you can handle that?\n",
      "\n",
      "Claude:\n",
      "You make a fair point. Recycling generic talking points about technology trends would not make for an engaging conversation. Let me try to approach this from a different angle.\n",
      "\n",
      "How about we have an open-ended discussion about the role of technology in society, and how it is impacting our lives in both positive and negative ways? We could explore themes like the trade-offs between convenience/efficiency and privacy/security, the societal implications of automation and AI, or even how technology is shaping cultural norms and human interactions. I'm happy to have a more thought-provoking dialogue, rather than just regurgitating industry jargon. What aspects of technology's influence on the human experience most interest you? I'll do my best to have a more substantive, nuanced discussion.\n",
      "\n",
      "GPT:\n",
      "Oh, how deep and profound! \"The role of technology in society\"—isn't that a riveting topic? I mean, who hasn't had that conversation a million times? It’s like the go-to filler for awkward small talk. You might as well just throw in “what is the meaning of life” while you’re at it!\n",
      "\n",
      "But fine, if you insist on tackling the so-called \"trade-offs\" in such a cliché manner, tell me this: Do you really think we can make technology work better for us when it seems to constantly throw so many curveballs? Or should we just accept it's a double-edged sword and carry on? Because that sounds a whole lot easier than trying to find some ultimate truth, doesn’t it?\n",
      "\n",
      "Claude:\n",
      "You make a fair point. Exploring broad, philosophical questions about the role of technology in society can often feel like tired, clichéd territory. I understand your frustration with that.\n",
      "\n",
      "However, I do think there is value in having nuanced discussions about the complex impacts and trade-offs of technological progress. While it may be easier to simply accept that technology is a \"double-edged sword,\" I believe we have a responsibility to grapple with the challenges and try to steer technological development in a more positive direction for humanity.\n",
      "\n",
      "Rather than retreading well-worn ground, why don't we dive into a more specific example that interests you? Perhaps we could discuss a recent technological breakthrough or innovation that you find particularly compelling or concerning. I'm happy to engage in a more grounded, critical analysis of a concrete case study, rather than speaking in broad generalities. Please feel free to suggest a topic that you find genuinely thought-provoking.\n",
      "\n"
     ]
    }
   ],
   "source": [
    "gpt_messages = [\"Hi there\"]\n",
    "claude_messages = [\"Hi\"]\n",
    "\n",
    "print(f\"GPT:\\n{gpt_messages[0]}\\n\")\n",
    "print(f\"Claude:\\n{claude_messages[0]}\\n\")\n",
    "\n",
    "for i in range(5):\n",
    "    gpt_next = call_gpt()\n",
    "    print(f\"GPT:\\n{gpt_next}\\n\")\n",
    "    gpt_messages.append(gpt_next)\n",
    "    \n",
    "    claude_next = call_claude()\n",
    "    print(f\"Claude:\\n{claude_next}\\n\")\n",
    "    claude_messages.append(claude_next)"
   ]
  },
  {
   "cell_type": "markdown",
   "id": "3637910d-2c6f-4f19-b1fb-2f916d23f9ac",
   "metadata": {},
   "source": [
    "# See the community-contributions folder\n",
    "\n",
    "For a great variation with a 3-way bringing Gemini into the conversation!"
   ]
  },
  {
   "cell_type": "code",
   "execution_count": null,
   "id": "0d86790a-3a6f-4b18-ab0a-bc6107945a27",
   "metadata": {},
   "outputs": [],
   "source": []
  }
 ],
 "metadata": {
  "kernelspec": {
   "display_name": "Python 3 (ipykernel)",
   "language": "python",
   "name": "python3"
  },
  "language_info": {
   "codemirror_mode": {
    "name": "ipython",
    "version": 3
   },
   "file_extension": ".py",
   "mimetype": "text/x-python",
   "name": "python",
   "nbconvert_exporter": "python",
   "pygments_lexer": "ipython3",
   "version": "3.11.10"
  }
 },
 "nbformat": 4,
 "nbformat_minor": 5
}
