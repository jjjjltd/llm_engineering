{
 "cells": [
  {
   "cell_type": "code",
   "execution_count": 21,
   "id": "b512099c-bfbb-4141-81ec-f3a093c8450a",
   "metadata": {},
   "outputs": [],
   "source": [
    "import os\n",
    "import requests\n",
    "from dotenv import load_dotenv\n",
    "from bs4 import BeautifulSoup\n",
    "from typing import List\n",
    "from IPython.display import Markdown, display\n",
    "from openai import OpenAI\n",
    "import json"
   ]
  },
  {
   "cell_type": "code",
   "execution_count": 2,
   "id": "72cedd92-874f-4929-ac70-fdb005210bcb",
   "metadata": {},
   "outputs": [],
   "source": [
    "load_dotenv()\n",
    "os.environ['OPENAI_API_KEY'] = os.getenv('OPENAI_API_KEY', 'your-key-if-not-using-env')\n",
    "MODEL = 'gpt-4o-mini'\n",
    "openai = OpenAI()"
   ]
  },
  {
   "cell_type": "code",
   "execution_count": 5,
   "id": "414362a4-d595-4020-b611-6c269055374a",
   "metadata": {},
   "outputs": [],
   "source": [
    "class Website:\n",
    "    \"\"\"\n",
    "    A utility class to represent a Website that we have scraped, now with links\n",
    "    \"\"\"\n",
    "    url: str\n",
    "    title: str\n",
    "    body: str\n",
    "    links: List[str]\n",
    "    text: str\n",
    "\n",
    "    def __init__(self, url):\n",
    "        self.url = url\n",
    "        response = requests.get(url)\n",
    "        self.body = response.content\n",
    "        soup = BeautifulSoup(self.body, 'html.parser')\n",
    "        self.title = soup.title.string if soup.title else \"No title found\"\n",
    "        if soup.body:\n",
    "            for irrelevant in soup.body([\"script\", \"style\", \"img\", \"input\"]):\n",
    "                irrelevant.decompose()\n",
    "            self.text = soup.body.get_text(separator=\"\\n\", strip=True)\n",
    "        else:\n",
    "            self.text = \"\"\n",
    "        links = [link.get('href') for link in soup.find_all('a')]\n",
    "        self.links = [link for link in links if link]\n",
    "\n",
    "    def get_contents(self):\n",
    "        return f\"Webpage Title:\\n{self.title}\\nWebpage Contents:\\n{self.text}\\n\\n\""
   ]
  },
  {
   "cell_type": "code",
   "execution_count": 6,
   "id": "c99655ab-21a5-4887-bfc7-81fdc2c3237a",
   "metadata": {},
   "outputs": [],
   "source": [
    "link_system_prompt = \"You are provided with a list of links found on a webpage. \\\n",
    "You are able to decide which of the links would be most relevant to include in a brochure about the company, \\\n",
    "such as links to an About page, or a Company page, or Careers/Jobs pages.\\n\"\n",
    "link_system_prompt += \"You should respond in JSON as in this example:\"\n",
    "link_system_prompt += \"\"\"\n",
    "{\n",
    "    \"links\": [\n",
    "        {\"type\": \"about page\", \"url\": \"https://full.url/goes/here/about\"},\n",
    "        {\"type\": \"careers page\": \"url\": \"https://another.full.url/careers\"}\n",
    "    ]\n",
    "}\n",
    "\"\"\""
   ]
  },
  {
   "cell_type": "code",
   "execution_count": 8,
   "id": "8f34f3e0-73d0-4f30-87d6-6567a58e06ba",
   "metadata": {},
   "outputs": [],
   "source": [
    "def get_links_user_prompt(website):\n",
    "    user_prompt = f\"Here is the list of links on the website of {website.url} - \"\n",
    "    user_prompt += \"please decide which of these are relevant web links for a brochure about the company, respond with the full https URL in JSON format. \\\n",
    "Do not include Terms of Service, Privacy, email links.\\n\"\n",
    "    user_prompt += \"Links (some might be relative links):\\n\"\n",
    "    user_prompt += \"\\n\".join(website.links)\n",
    "    return user_prompt"
   ]
  },
  {
   "cell_type": "code",
   "execution_count": 9,
   "id": "947319b7-eb86-41e6-9791-b7d4d1185304",
   "metadata": {},
   "outputs": [],
   "source": [
    "def get_links(url):\n",
    "    website = Website(url)\n",
    "    completion = openai.chat.completions.create(\n",
    "        model=MODEL,\n",
    "        messages=[\n",
    "            {\"role\": \"system\", \"content\": link_system_prompt},\n",
    "            {\"role\": \"user\", \"content\": get_links_user_prompt(website)}\n",
    "      ],\n",
    "        response_format={\"type\": \"json_object\"}\n",
    "    )\n",
    "    result = completion.choices[0].message.content\n",
    "    return json.loads(result)"
   ]
  },
  {
   "cell_type": "code",
   "execution_count": 10,
   "id": "bfcf6b51-5200-43ab-af51-473de5195ba2",
   "metadata": {},
   "outputs": [],
   "source": [
    "def get_all_details(url):\n",
    "    result = \"Landing page:\\n\"\n",
    "    result += Website(url).get_contents()\n",
    "    links = get_links(url)\n",
    "    print(\"Found links:\", links)\n",
    "    for link in links[\"links\"]:\n",
    "        result += f\"\\n\\n{link['type']}\\n\"\n",
    "        result += Website(link[\"url\"]).get_contents()\n",
    "    return result"
   ]
  },
  {
   "cell_type": "code",
   "execution_count": 55,
   "id": "9641a391-b82e-4e08-a620-0ddb6e44e58f",
   "metadata": {},
   "outputs": [],
   "source": [
    "system_prompt = \"You are an assistant that analyzes the contents of several relevant pages from a company website \\\n",
    "and creates a short brochure about the company for prospective customers, investors and recruits. Respond in markdown.\\\n",
    "Include details of company culture, customers and careers/jobs if you have the information.\""
   ]
  },
  {
   "cell_type": "code",
   "execution_count": 36,
   "id": "b027568d-b515-4bfd-a215-b57976ef0aef",
   "metadata": {},
   "outputs": [],
   "source": [
    "# sample_answer = \"\"\" {\n",
    "  \"brochure\": {\n",
    "    \"title\": \"Welcome to Shepperton Open Water Swimming\",\n",
    "    \"introduction\": \"Experience the tranquility and thrill of open water swimming at Shepperton Open Water Swim, where every swim is special. Our dedicated lake provides a natural setting perfect for adult swimmers of all levels.\",\n",
    "    \"venue\": {\n",
    "      \"headline\": \"Not Just Any Lake\",\n",
    "      \"description\": \"We've moved to our winter venue, Shepperton Splash, located at New Road, Shepperton, TW17 0QQ. Enjoy amenities like wood-fired saunas, hot tubs, changing rooms, covered seating, a coffee van, and an on-site kit shop.\"\n",
    "    },\n",
    "    \"safety_info\": {\n",
    "      \"headline\": \"Safety is Our Priority\",\n",
    "      \"description\": \"At Shepperton Open Water Swim, we prioritize safety with controlled swimmer numbers and strict adherence to safety procedures. Please respect our safety team's instructions.\"\n",
    "    },\n",
    "    \"swimming_sessions\": {\n",
    "      \"headline\": \"Open for Summer 2024\",\n",
    "      \"details\": \"Our family-run facility offers specific swim session times. New swimmers must book an induction, which is mandatory to ensure safety and confidence in the open water.\"\n",
    "    },\n",
    "    \"induction_swim\": {\n",
    "      \"description\": \"New Swimmers are required to participate in an induction swim to familiarize themselves with our safety rules and complete a swim test. After successfully completing the induction, you will receive login details for future bookings.\",\n",
    "      \"booking_info\": \"To book your induction swim, contact us through email or social media.\"\n",
    "    },\n",
    "    \"operational_hours\": {\n",
    "      \"headline\": \"Opening Times\",\n",
    "      \"schedule\": {\n",
    "        \"Saturday\": \"7-11 AM\",\n",
    "        \"Sunday\": \"7-11 AM\",\n",
    "        \"Weekdays\": \"CLOSED\"\n",
    "      }\n",
    "    },\n",
    "    \"location\": {\n",
    "      \"headline\": \"Find Us\",\n",
    "      \"address\": \"Ferris Meadow Lake, Ferry Lane, Shepperton, Middlesex, TW17 9LH\",\n",
    "      \"notes\": \"Please note that the lake is private property and accessible only during opening times.\"\n",
    "    },\n",
    "    \"contact_info\": {\n",
    "      \"headline\": \"Get in Touch\",\n",
    "      \"email\": \"info@sheppertonopenwaterswim.co.uk\",\n",
    "      \"phone\": \"07531 745133\",\n",
    "      \"social_media\": \"Follow us on our social media channels for updates.\"\n",
    "    },\n",
    "    \"coaching\": {\n",
    "      \"headline\": \"Interested in Coaching?\",\n",
    "      \"description\": \"We offer individual or group coaching for all skill levels. Contact us to arrange your coaching sessions.\"\n",
    "    },\n",
    "    \"footer\": \"All content copyright © sheppertonopenwaterswim.co.uk | All rights reserved\"\n",
    "  }\n",
    "}\n",
    "\"\"\""
   ]
  },
  {
   "cell_type": "code",
   "execution_count": 41,
   "id": "bdbe44a4-72db-42dd-92f6-cb496f11fed9",
   "metadata": {},
   "outputs": [],
   "source": [
    "system_prompt = f\"You are an assistant that analyzes the contents of several relevant pages from a company website \\\n",
    "and creates a short brochure about the company for prospective customers, investors and recruits. Respond in JSON. \\\n",
    "following this example:  {sample_answer}\""
   ]
  },
  {
   "cell_type": "code",
   "execution_count": 48,
   "id": "60da398a-ff33-4e48-974b-1e9812aea06b",
   "metadata": {},
   "outputs": [],
   "source": [
    "def get_brochure_user_prompt(company_name, url):\n",
    "    user_prompt = f\"You are looking at a company called: {company_name}\\n\"\n",
    "    user_prompt += f\"Here are the contents of its landing page and other relevant pages; use this information to build a short brochure of the company in markdown.\\n\"\n",
    "    user_prompt += get_all_details(url)\n",
    "    user_prompt = user_prompt[:5_000] # Truncate if more than 20,000 characters\n",
    "    return user_prompt"
   ]
  },
  {
   "cell_type": "code",
   "execution_count": 13,
   "id": "004f4dfe-a123-49c4-99cd-3c2069b3fdbc",
   "metadata": {},
   "outputs": [],
   "source": [
    "def create_brochure(company_name, url):\n",
    "    response = openai.chat.completions.create(\n",
    "        model=MODEL,\n",
    "        messages=[\n",
    "            {\"role\": \"system\", \"content\": system_prompt},\n",
    "            {\"role\": \"user\", \"content\": get_brochure_user_prompt(company_name, url)}\n",
    "          ],\n",
    "    )\n",
    "    result = response.choices[0].message.content\n",
    "    display(Markdown(result))"
   ]
  },
  {
   "cell_type": "code",
   "execution_count": 27,
   "id": "f37906ad-26b1-4dd8-ad42-7e369d15402c",
   "metadata": {},
   "outputs": [],
   "source": [
    "ws_string = \"https://sheppertonopenwaterswim.co.uk/\""
   ]
  },
  {
   "cell_type": "code",
   "execution_count": 56,
   "id": "28fc5a0f-1dc8-4e26-bc17-e48682603822",
   "metadata": {},
   "outputs": [
    {
     "name": "stdout",
     "output_type": "stream",
     "text": [
      "Found links: {'links': [{'type': 'home page', 'url': 'https://sheppertonopenwaterswim.co.uk/'}, {'type': 'contact page', 'url': 'https://sheppertonopenwaterswim.co.uk/#contact'}, {'type': 'location page', 'url': 'https://sheppertonopenwaterswim.co.uk/#location'}, {'type': 'opening times page', 'url': 'https://sheppertonopenwaterswim.co.uk/#opening-times'}, {'type': 'swimming page', 'url': 'https://sheppertonopenwaterswim.co.uk/#swimming'}, {'type': 'Facebook page', 'url': 'https://en-gb.facebook.com/SheppertonOpenWaterSwim/'}, {'type': 'Twitter page', 'url': 'https://twitter.com/sheppertonswim'}, {'type': 'Instagram page', 'url': 'https://www.instagram.com/sheppertonopenwaterswim/'}]}\n"
     ]
    },
    {
     "data": {
      "text/markdown": [
       "```markdown\n",
       "# Welcome to Shepperton Open Water Swimming\n",
       "\n",
       "## Overview\n",
       "Shepperton Open Water Swimming (SOWS) offers a unique experience for adult swimmers looking to enjoy open water in a natural environment. As a family-run venue, we prioritize safety and provide a comfortable atmosphere for all levels of swimmers. Our current winter venue at Shepperton Splash features wood-fired saunas, hot tubs, changing rooms, and an on-site kit shop—perfect for both relaxation and preparation before your swim.\n",
       "\n",
       "## Company Culture\n",
       "At Shepperton Open Water Swimming, we foster a welcoming and inclusive culture. Our team is passionate about open water swimming and is dedicated to ensuring you have a safe and enjoyable experience. Our commitment to customer safety is reflected in our thorough induction procedure for all new swimmers. We believe in building a community around the love of swimming and encourage camaraderie among participants.\n",
       "\n",
       "## Safety First\n",
       "Your safety is our top priority. \n",
       "- **Induction Required**: All new swimmers must undergo a brief induction for safety training and swim testing, ensuring they're comfortable in an open-water setting.\n",
       "- **Controlled Environment**: We operate on a booking-only basis, with controlled numbers for each swim session to maintain adequate spacing among swimmers. \n",
       "\n",
       "No booking, no swim—so please respect our guidelines.\n",
       "\n",
       "## Customer Experience\n",
       "We cater to adult swimmers of all experience levels and ensure proper guidance and support throughout your swimming journey.\n",
       "- **Flexible Booking**: Registered swimmers can book sessions easily via our Wellness Living Achieve app.\n",
       "- **Only for Adults**: Our venue is designed strictly for adults (18+), while under-18s must swim with a coach.\n",
       "\n",
       "## Location\n",
       "Located at Ferris Meadow Lake, Shepperton, Middlesex, our private facility ensures a tranquil swimming experience. \n",
       "- **Address**: Ferris Meadow Lake, Ferry Lane, Shepperton, Middlesex, TW17 9LH\n",
       "- **Winter Venue**: Shepperton Splash, New Road, Shepperton, TW17 0QQ (Includes facilities like saunas and hot tubs)\n",
       "\n",
       "## Careers and Jobs\n",
       "Shepperton Open Water Swimming is always on the lookout for enthusiastic individuals looking to immerse themselves in the world of open water swimming. If you are passionate about aquatics and want to join a supportive team dedicated to providing excellent customer service, we encourage you to get in touch and explore potential career opportunities with us.\n",
       "\n",
       "## Contact Us\n",
       "Ready to dive in? Book your induction today or reach out for more information through our contact methods:\n",
       "- **Email**: [info@sheppertonopenwaterswimming.com](mailto:info@sheppertonopenwaterswimming.com)\n",
       "- **Phone**: 07531 745133\n",
       "- **Social Media**: Available on our website\n",
       "\n",
       "## Join Us\n",
       "Experience the beauty of open water swimming with Shepperton Open Water Swimming for Summer 2024 and beyond. We look forward to welcoming you to our community!\n",
       "\n",
       "---\n",
       "```\n",
       "This brochure provides a comprehensive overview of Shepperton Open Water Swimming, highlighting the company's culture, commitment to safety, customer experience, location, and career opportunities."
      ],
      "text/plain": [
       "<IPython.core.display.Markdown object>"
      ]
     },
     "metadata": {},
     "output_type": "display_data"
    }
   ],
   "source": [
    "create_brochure(\"Shepperton Open Water Swimming\", ws_string)"
   ]
  },
  {
   "cell_type": "code",
   "execution_count": null,
   "id": "cce57c37-84e3-45e0-a902-c1b813cbbef8",
   "metadata": {},
   "outputs": [],
   "source": []
  }
 ],
 "metadata": {
  "kernelspec": {
   "display_name": "Python 3 (ipykernel)",
   "language": "python",
   "name": "python3"
  },
  "language_info": {
   "codemirror_mode": {
    "name": "ipython",
    "version": 3
   },
   "file_extension": ".py",
   "mimetype": "text/x-python",
   "name": "python",
   "nbconvert_exporter": "python",
   "pygments_lexer": "ipython3",
   "version": "3.11.10"
  }
 },
 "nbformat": 4,
 "nbformat_minor": 5
}
